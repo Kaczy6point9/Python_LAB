{
 "cells": [
  {
   "cell_type": "markdown",
   "metadata": {},
   "source": [
    "# 2. Instrukcje i składnia"
   ]
  },
  {
   "cell_type": "markdown",
   "metadata": {},
   "source": [
    "## Zakres zmiennych\n",
    "Zakres zmiennnej (miejsce, w którym może ona zostać użyta) jest zawsze ustalany przez to, w którym miejscu kodu źródłowego zostaje ona przypisana."
   ]
  },
  {
   "cell_type": "code",
   "execution_count": null,
   "metadata": {
    "collapsed": false
   },
   "outputs": [],
   "source": [
    "x = 99                    # Zmienna globalna (widoczna w całym pliku)\n",
    "\n",
    "def func():\n",
    "    x = 88                # Zmianna lokalna (widoczna jedynie wewnątrz instrukcji def)\n",
    "    print(x)              # Znika po zakończeniu funkcji.\n",
    "\n",
    "func()                    # 88\n",
    "print(x)                  # 99"
   ]
  },
  {
   "cell_type": "markdown",
   "metadata": {},
   "source": [
    "### Współdzielone referencje"
   ]
  },
  {
   "cell_type": "code",
   "execution_count": null,
   "metadata": {
    "collapsed": false
   },
   "outputs": [],
   "source": [
    "def changer(a, b):\n",
    "    a = 2                  # Zmiana wartości jedynie zmiennej lokalnej\n",
    "    b[0] = \"b\"             # Zmiana współdzielonego obiektu w miejscu\n",
    "\n",
    "X = 1\n",
    "L = [1, 2]\n",
    "changer(X, L)              # Przekazanie obiektów niezmiennych i zmiennych\n",
    "print(X, L)                # X bez zmian, L jest inne"
   ]
  },
  {
   "cell_type": "markdown",
   "metadata": {},
   "source": [
    "## Funkcje\n",
    "[Funkcja](https://docs.python.org/3/tutorial/controlflow.html#defining-functions) jest narzędziem grupującym zbiór instrukcji w taki sposób, by mogły one byc wykonane w programie więcej niż jeden raz. Funkcje obliczają wartość wyniku i pozwalają nam określić parametry służące za dane wejściowe - mogą się one zatem zmieniać z każdym wykonaniem kodu."
   ]
  },
  {
   "cell_type": "markdown",
   "metadata": {},
   "source": [
    "> Funkcje pełnią dwie główne role: \n",
    "* maksymalizacja ponownego wykorzystania kodu i minimalizacja jego powtarzalności\n",
    "* proceduralne podzielenie na części (fragmenty z jasno zdefiniowanymi rolami)"
   ]
  },
  {
   "cell_type": "code",
   "execution_count": null,
   "metadata": {
    "collapsed": false
   },
   "outputs": [],
   "source": [
    "def f(a, b, c):\n",
    "    return (a, b, c)\n",
    "\n",
    "print(f(1, 2, 3))          # Dopasowanie argumentów po pozycji\n",
    "print(f(b=2, a=1, c=3))    # Dopasowanie argumentów po nazwie"
   ]
  },
  {
   "cell_type": "markdown",
   "metadata": {},
   "source": [
    "### Wartości domyślne funkcji \n",
    "Pozwalają uczynić wybrane argumenty funkcji opcjonalnymi (jeżeli do takiego argumentu nie przekaże się wartości, przed wykonaniem funkcji zostanie do niego przypisana wartość domyślna). Opcjonalne argumenty muszą w nagłówku funkcji występować po argumentach wymaganych."
   ]
  },
  {
   "cell_type": "code",
   "execution_count": null,
   "metadata": {
    "collapsed": false
   },
   "outputs": [],
   "source": [
    "def f(a, b=2, c=3):\n",
    "    return (a, b, c)\n",
    "\n",
    "f(1)\n",
    "f(a=1)\n",
    "f(1, 4)\n",
    "f(1, 4, 5)\n",
    "f(1, c=6)"
   ]
  },
  {
   "cell_type": "markdown",
   "metadata": {},
   "source": [
    "### Zbieranie argumentów funkcji (roszerzenia \\* i \\*\\*)\n",
    "Rozszerzenia \\*\\* i \\*\\*\\* wykorzystywane są w funkcjach, które przyjmują dowolną liczbę argumentów."
   ]
  },
  {
   "cell_type": "code",
   "execution_count": null,
   "metadata": {
    "collapsed": false
   },
   "outputs": [],
   "source": [
    "def f(*args):            # * zbiera niedopasowanie argumenty pozycyjne w krotkę\n",
    "    return args\n",
    "\n",
    "print(f())\n",
    "print(f(1))\n",
    "print(f(1, 2, 3, 4))"
   ]
  },
  {
   "cell_type": "code",
   "execution_count": null,
   "metadata": {
    "collapsed": true
   },
   "outputs": [],
   "source": [
    "def f(**args):          # ** konwersja ze słów kluczowych na słowniki \n",
    "    return args\n",
    "\n",
    "print(f())\n",
    "print(f(a=1, b=1))"
   ]
  },
  {
   "cell_type": "markdown",
   "metadata": {},
   "source": [
    "Nagłówki funkcji mogą łączyć normalne argumenty z \\* oraz \\*\\*."
   ]
  },
  {
   "cell_type": "code",
   "execution_count": null,
   "metadata": {
    "collapsed": false
   },
   "outputs": [],
   "source": [
    "def f(a, *args, c=6, **kargs):          # Reguła dotycząca kolejności\n",
    "    return (a, args, c, kargs)\n",
    "\n",
    "print(f(1, 2, 3, c=6, x=1, y=2))"
   ]
  },
  {
   "cell_type": "markdown",
   "metadata": {},
   "source": [
    "### Rozpakowywanie argumentów"
   ]
  },
  {
   "cell_type": "code",
   "execution_count": null,
   "metadata": {
    "collapsed": false
   },
   "outputs": [],
   "source": [
    "def f(a, b, c):\n",
    "    return(a, b, c)\n",
    "\n",
    "args = (1, 2, 3)\n",
    "print(f(*args))"
   ]
  },
  {
   "cell_type": "code",
   "execution_count": null,
   "metadata": {
    "collapsed": false
   },
   "outputs": [],
   "source": [
    "args = {'a': 1, 'b': 2, 'c': 3}\n",
    "print(f(*args))"
   ]
  },
  {
   "cell_type": "markdown",
   "metadata": {
    "collapsed": true
   },
   "source": [
    "### Pośrednie wywołanie funkcji"
   ]
  },
  {
   "cell_type": "code",
   "execution_count": null,
   "metadata": {
    "collapsed": false
   },
   "outputs": [],
   "source": [
    "def echo(a):\n",
    "    print(a)\n",
    "   \n",
    "echo(3)           # Wywołanie obiektu przez oryginalną nazwę\n",
    "\n",
    "x = echo          # Teraz również zmienna x zawiera referencję do funkcji\n",
    "x(3)              # Wywołanie obiektu przez nazwę przez zastosowanie ()"
   ]
  },
  {
   "cell_type": "markdown",
   "metadata": {},
   "source": [
    "## Moduły\n",
    "[Moduł](https://docs.python.org/3/tutorial/modules.html) to jednostka najwyższego poziomu organizacji programu. Moduł odpowiada plikom programów Python (lub rozszerzeniom znapisanych w językach zewnętrznych, takich jak C czy C#)."
   ]
  },
  {
   "cell_type": "code",
   "execution_count": null,
   "metadata": {
    "collapsed": true
   },
   "outputs": [],
   "source": [
    "# Plik seq.py\n",
    "\n",
    "def transcribe(dnaseq):\n",
    "    return dnaseq.upper().replace('T', 'U')"
   ]
  },
  {
   "cell_type": "markdown",
   "metadata": {},
   "source": [
    "### Instrukcja import"
   ]
  },
  {
   "cell_type": "code",
   "execution_count": null,
   "metadata": {
    "collapsed": true
   },
   "outputs": [],
   "source": [
    "import seq                    # Pobranie modułu jako całości\n",
    "seq.transcribe('ATGCTGATG')   # Zapis z kropką w celu otrzymania zmiennej."
   ]
  },
  {
   "cell_type": "markdown",
   "metadata": {},
   "source": [
    "### Instrukcja from"
   ]
  },
  {
   "cell_type": "code",
   "execution_count": null,
   "metadata": {
    "collapsed": true
   },
   "outputs": [],
   "source": [
    "from seq import transcribe    # Skopiowanie jednej zmiennej\n",
    "transcribe('ATGCTGATG')"
   ]
  },
  {
   "cell_type": "code",
   "execution_count": null,
   "metadata": {
    "collapsed": true
   },
   "outputs": [],
   "source": [
    "from seq import *             # Skopiowanie wszystkich zmiennych\n",
    "transcribe('ATGCTGATG')"
   ]
  },
  {
   "cell_type": "markdown",
   "metadata": {},
   "source": [
    "### Ścieżka wyszukiwania modułów\n",
    "Kolejność:\n",
    "1. Katalog w którym pracujemy\n",
    "2. Katalogi zmiennej środowiskowej PYTHONPATH\n",
    "   * lista zdefiniowanych przez użytkownika i specyficznych dla platfromy nazw katalogów zawierających pliki z kodem Pythona.\n",
    "   * [Instrukcja](https://support.enthought.com/hc/en-us/articles/204469160-How-do-I-set-PYTHONPATH-and-other-environment-variables-for-Canopy-) jak ustawić ścieżkę PYTHONPATH (Windows, MacOS, Linux)\n",
    "3. Katalogi biblioteki standardowej"
   ]
  },
  {
   "cell_type": "code",
   "execution_count": null,
   "metadata": {
    "collapsed": true
   },
   "outputs": [],
   "source": [
    "import sys\n",
    "sys.path        # ścieżka wyszukiwania modułów Pythona na naszym komputerze"
   ]
  },
  {
   "cell_type": "markdown",
   "metadata": {},
   "source": [
    "### Uruchamianie modułów jako skryptów\n",
    "Python umożliwia importowanie pliku jako moduł, jak i wykonywanie go jako samodzielny program. Każdy moduł ma wbudowany atrybut o nazwie `__name__`, który Python autmatycznie ustawia w następujący sposób:\n",
    "* jeśli plik jest wykonywany jako skrpyt: `__name__ = \"__main__\"`.\n",
    "* jeśli plik jest importowany atrubut `__name__` jest ustawiony na nazwę modułu (np. `__name__` = \"random\"`)"
   ]
  },
  {
   "cell_type": "markdown",
   "metadata": {},
   "source": [
    "W rezultacie moduł może sprawdzać swój własny atrybut `__name__` w celu sprawdzenia czy jest wykonywany, czy też importowany."
   ]
  },
  {
   "cell_type": "code",
   "execution_count": null,
   "metadata": {
    "collapsed": true
   },
   "outputs": [],
   "source": [
    "# Plik seq.py\n",
    "\n",
    "def transcribe(dnaseq):\n",
    "    return dnaseq.upper().replace('T', 'U')\n",
    "\n",
    "if __name__ == '__main__':                # Tylko przy wykonywaniu: a nie przy importowaniu\n",
    "    import sys \n",
    "    transcribe(sys.argv[1])"
   ]
  },
  {
   "cell_type": "markdown",
   "metadata": {},
   "source": [
    "Kod pliku wykonujemy jako program:\n",
    "```\n",
    "$ python3 seq.py ATGCTGATAGAT\n",
    "```"
   ]
  },
  {
   "cell_type": "markdown",
   "metadata": {},
   "source": [
    "## Pakiety modułów \n",
    "Katalog kodu Pythona nazywa się [pakietem](https://docs.python.org/3/tutorial/modules.html#packages). W rezultacie importowanie pakietów zamienia katalog naszego komputera na kolejną przestrzeń nazw Pythona, z atrybutami odpowiadającymi podkatalogom oraz plikom modułów znajdujących się w tym katalogu."
   ]
  },
  {
   "cell_type": "markdown",
   "metadata": {},
   "source": [
    "```\n",
    "Bio/                            Pakiet modułów o nazwie Bio\n",
    "      __init__.py               \n",
    "      AlignIO/                  Podpakiet do porównywań sekwencji\n",
    "              __init__.py\n",
    "              ClustalIO.py\n",
    "              EmbossIO.py\n",
    "              NexusIO.py\n",
    "              PhylipIO.py\n",
    "              StockholmIO.py\n",
    "              ...\n",
    "      Data/                     Podpakiet ze stałymi biologicznymi\n",
    "              __init__.py\n",
    "              CodonTable.py\n",
    "              IUPACData.py\n",
    "              ...\n",
    "      SeqIO/                    Podpakiet do wczytywania/zapisu sekwencji\n",
    "              __init__.py\n",
    "              FastaIO.py\n",
    "              UniProtIO.py\n",
    "              ...\n",
    "```"
   ]
  },
  {
   "cell_type": "markdown",
   "metadata": {
    "collapsed": true
   },
   "source": [
    "Możemy importować dowolne komponenty pakietu BioPython."
   ]
  },
  {
   "cell_type": "code",
   "execution_count": null,
   "metadata": {
    "collapsed": false
   },
   "outputs": [],
   "source": [
    "from Bio.Data import IUPACData\n",
    "\n",
    "help(IUPACData)                         # Dokumentacja modułu\n",
    "\n",
    "print(IUPACData.protein_letters)"
   ]
  },
  {
   "cell_type": "markdown",
   "metadata": {},
   "source": [
    "### Import względny\n",
    "Na przykład z modułu `FastaIO` składnia importu w kontekście pakietu Bio wygląda:"
   ]
  },
  {
   "cell_type": "code",
   "execution_count": null,
   "metadata": {
    "collapsed": true
   },
   "outputs": [],
   "source": [
    "from . import UniProtIO\n",
    "from ..Data import CodonTable"
   ]
  }
 ],
 "metadata": {
  "kernelspec": {
   "display_name": "Python 3",
   "language": "python",
   "name": "python3"
  },
  "language_info": {
   "codemirror_mode": {
    "name": "ipython",
    "version": 3
   },
   "file_extension": ".py",
   "mimetype": "text/x-python",
   "name": "python",
   "nbconvert_exporter": "python",
   "pygments_lexer": "ipython3",
   "version": "3.5.2"
  }
 },
 "nbformat": 4,
 "nbformat_minor": 0
}
