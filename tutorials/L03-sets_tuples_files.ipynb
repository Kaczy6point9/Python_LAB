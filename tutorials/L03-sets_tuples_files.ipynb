{
 "cells": [
  {
   "cell_type": "markdown",
   "metadata": {},
   "source": [
    "# 1. Typy obiektów i operacje"
   ]
  },
  {
   "cell_type": "markdown",
   "metadata": {},
   "source": [
    "## 1.6. Zbiory (ang. *sets*)\n",
    "[Zbiór](https://docs.python.org/3/library/stdtypes.html#set-types-set-frozenset) to nieuporządkowana kolekcja unikatowych i niezmiennych obiektów, obsługująca działania odpowiadające matematycznej teorii zbiorów."
   ]
  },
  {
   "cell_type": "code",
   "execution_count": null,
   "metadata": {
    "collapsed": true
   },
   "outputs": [],
   "source": [
    "### Trzy sposoby tworzenie zbiorów"
   ]
  },
  {
   "cell_type": "code",
   "execution_count": 12,
   "metadata": {
    "collapsed": false
   },
   "outputs": [
    {
     "data": {
      "text/plain": [
       "{'A', 'C', 'G', 'T'}"
      ]
     },
     "execution_count": 12,
     "metadata": {},
     "output_type": "execute_result"
    }
   ],
   "source": [
    "dna = {'A', 'A', 'T', 'T', 'G', 'G', 'C', 'C'}\n",
    "\n",
    "dna = set('AATTGGCC')                           # Użycie konstruktora set.\n",
    "dna = set(['A', 'T', 'G', 'C'])\n",
    "dna"
   ]
  },
  {
   "cell_type": "markdown",
   "metadata": {},
   "source": [
    "### 1.6.1. Operacje na zbiorach"
   ]
  },
  {
   "cell_type": "code",
   "execution_count": 14,
   "metadata": {
    "collapsed": false
   },
   "outputs": [
    {
     "data": {
      "text/plain": [
       "{'A', 'C', 'G'}"
      ]
     },
     "execution_count": 14,
     "metadata": {},
     "output_type": "execute_result"
    }
   ],
   "source": [
    "rna = set('ATGC')\n",
    "rna.remove('T')                                # Wstawianie jednego elementu.\n",
    "rna.add('U')                                   # Usuwanie jednego elementu\n",
    "\n",
    "'U' in rna                                     # Istnienie w zbiorze.\n",
    "'U' not in rna                                 # Nieistnienie w zbiorze.\n",
    "len(rna)                                       # Liczba elementów zbioru."
   ]
  },
  {
   "cell_type": "markdown",
   "metadata": {},
   "source": [
    "#### Matematyczne działania na zbiorach"
   ]
  },
  {
   "cell_type": "code",
   "execution_count": null,
   "metadata": {
    "collapsed": true
   },
   "outputs": [],
   "source": [
    "nucleotides = set('ATGCU')\n",
    "dna = set('ATGC')\n",
    "rna = set('AUGC')"
   ]
  },
  {
   "cell_type": "code",
   "execution_count": null,
   "metadata": {
    "collapsed": true
   },
   "outputs": [],
   "source": [
    "dna - rna                                      # Różnica zbiorów\n",
    "dna.difference(rna)                            # j.w."
   ]
  },
  {
   "cell_type": "code",
   "execution_count": null,
   "metadata": {
    "collapsed": true
   },
   "outputs": [],
   "source": [
    "dna | rna                                      # Suma (unia) zbiorów\n",
    "dna.union(rna)                                 # j.w."
   ]
  },
  {
   "cell_type": "code",
   "execution_count": null,
   "metadata": {
    "collapsed": true
   },
   "outputs": [],
   "source": [
    "dna & rna & nucleotides                        # Część wspólna (iloczyn) zbiorów\n",
    "dna.intersection(rna, nucleotides)             # j.w."
   ]
  },
  {
   "cell_type": "code",
   "execution_count": null,
   "metadata": {
    "collapsed": true
   },
   "outputs": [],
   "source": [
    "dna ^ rna                                      # Różnica symetryczna\n",
    "dna.symetric_difference(rna)                   # j.w."
   ]
  },
  {
   "cell_type": "code",
   "execution_count": null,
   "metadata": {
    "collapsed": true
   },
   "outputs": [],
   "source": [
    "rna <= nucleotides                             # Podzbiór\n",
    "rna.issubset(nucleotides)                      # j.w."
   ]
  },
  {
   "cell_type": "code",
   "execution_count": null,
   "metadata": {
    "collapsed": true
   },
   "outputs": [],
   "source": [
    "nucleotides >= dna                             # Nadzbiór\n",
    "nucleotides.issuperset(dna)                    # j.w."
   ]
  },
  {
   "cell_type": "markdown",
   "metadata": {},
   "source": [
    "## 1.7. Krotki (ang. *tuples*)\n",
    "[Krotka](https://docs.python.org/3.5/tutorial/datastructures.html#tuples-and-sequences) to uporządkowana kolekcja obiektów, które nie może być modyfikowana."
   ]
  },
  {
   "cell_type": "code",
   "execution_count": null,
   "metadata": {
    "collapsed": true
   },
   "outputs": [],
   "source": [
    "t = ()                 # Pusta krotka\n",
    "t = (40,)              # Krotka zawierająca jedną liczbę całkowitą\n",
    "t = ('ATG', 'TAG')\n",
    "codon1 = t[0]\n",
    "codon2 = t[1]          \n",
    "\n",
    "codon1, codon2 = t\n",
    "\n",
    "t.index('ATG')         # Indeks obiektu 'ATG'\n",
    "t.count('ATG')         # Ile jest obiektów 'ATG'"
   ]
  },
  {
   "cell_type": "markdown",
   "metadata": {},
   "source": [
    "Po co nam krotki?"
   ]
  },
  {
   "cell_type": "markdown",
   "metadata": {},
   "source": [
    "## Konwersje między str, list i tuple"
   ]
  },
  {
   "cell_type": "code",
   "execution_count": null,
   "metadata": {
    "collapsed": true
   },
   "outputs": [],
   "source": [
    "seq = 'ATGG'\n",
    "l = list(seq)\n",
    "t = tuple(seq)\n",
    "t = tuple(l)\n",
    "l = tuple(t)\n",
    "s = set(seq)\n",
    "s = set(l)\n",
    "s = set(t)"
   ]
  },
  {
   "cell_type": "markdown",
   "metadata": {},
   "source": [
    "## 1.7. Pliki (ang. *files*)"
   ]
  },
  {
   "cell_type": "markdown",
   "metadata": {},
   "source": [
    "### 1.7.1. Otwieranie / zamykanie plików\n",
    "Funkcja `open` przyjmuje nazwę pliku zewnętrznego i tryb przetwarzania (np. \n",
    "* 'r' - odczyt pliku, \n",
    "* 'w' - tworzenie i zapis do pliku,\n",
    "* 'a' - dodanie tekstu na końcu istniejącego pliku,\n",
    "* 'rb'/'wb'/'ab' - dane binarne"
   ]
  },
  {
   "cell_type": "code",
   "execution_count": null,
   "metadata": {
    "collapsed": true
   },
   "outputs": [],
   "source": [
    "f1 = open('workfile.txt', 'w')    # Utworzenie pliku do zapisu ('w' = write)\n",
    "f2 = open('data', 'r')            # Utworzenie pliku do odczytu ('r' = read)\n",
    "f1.close()                        # Ręczne zamknięcie pliku\n",
    "f2.close()                        # j.w."
   ]
  },
  {
   "cell_type": "markdown",
   "metadata": {
    "collapsed": true
   },
   "source": [
    "### 1.7.2. Tworzenie pliku i zapis"
   ]
  },
  {
   "cell_type": "code",
   "execution_count": null,
   "metadata": {
    "collapsed": true
   },
   "outputs": [],
   "source": [
    "f = open('workfile.out', 'w')     # Otwarcie do zapisu tekstowego (tworzy pusty plik)\n",
    "f.write('ATGCTGATAGTAGATAGTA\\n')  # Zapisanie wiersza pliku\n",
    "f.write('GGGGCCTGTAGATGATAGA\\n')\n",
    "\n",
    "lines = ['ATGC', 'CTGA', 'TGAT']\n",
    "f.writelines(lines)               # Zapisanie do pliku wszystkich stringów znajdujących się w liście  \n",
    "\n",
    "f.close()"
   ]
  },
  {
   "cell_type": "markdown",
   "metadata": {},
   "source": [
    "### 1.7.3. Odczyt pliku"
   ]
  },
  {
   "cell_type": "code",
   "execution_count": null,
   "metadata": {
    "collapsed": true
   },
   "outputs": [],
   "source": [
    "f = open('workfile.out', 'r')\n",
    "print(f.read())                   # Wczytywanie wszystkiego naraz do łańcucha znaków \n",
    "f.close()"
   ]
  },
  {
   "cell_type": "code",
   "execution_count": null,
   "metadata": {
    "collapsed": true
   },
   "outputs": [],
   "source": [
    "lines = open('workfile.out', 'r').readlines()  # Wczytanie wszystkich linii do listy\n",
    "print(lines)"
   ]
  },
  {
   "cell_type": "code",
   "execution_count": null,
   "metadata": {
    "collapsed": true
   },
   "outputs": [],
   "source": [
    "f = open('workfile.out', 'r')\n",
    "print(f.readline())                   # Wcytywanie 1-szego wiersza\n",
    "print(f.readline())                   # Wcytywanie 2-szego wiersza\n",
    "f.close()"
   ]
  },
  {
   "cell_type": "markdown",
   "metadata": {
    "collapsed": true
   },
   "source": [
    "#### Preferowane 2 sposoby czytania pliku wiersz po wierszu:"
   ]
  },
  {
   "cell_type": "code",
   "execution_count": null,
   "metadata": {
    "collapsed": true
   },
   "outputs": [],
   "source": [
    "f = open('workfile.out')\n",
    "for line in f:                        # Użycie iteratorów plików - \n",
    "    print(line)\n",
    "f.close()"
   ]
  },
  {
   "cell_type": "code",
   "execution_count": null,
   "metadata": {
    "collapsed": true
   },
   "outputs": [],
   "source": [
    "with open('workfile.out') as f:      # instrukcja with automatycznie zamyka plik po bloku with\n",
    "    for line in f:\n",
    "        print(line)"
   ]
  }
 ],
 "metadata": {
  "kernelspec": {
   "display_name": "Python 3",
   "language": "python",
   "name": "python3"
  },
  "language_info": {
   "codemirror_mode": {
    "name": "ipython",
    "version": 3
   },
   "file_extension": ".py",
   "mimetype": "text/x-python",
   "name": "python",
   "nbconvert_exporter": "python",
   "pygments_lexer": "ipython3",
   "version": "3.5.2"
  }
 },
 "nbformat": 4,
 "nbformat_minor": 0
}
