{
 "cells": [
  {
   "cell_type": "markdown",
   "metadata": {},
   "source": [
    "# 2. Instrukcje i składnia"
   ]
  },
  {
   "cell_type": "markdown",
   "metadata": {},
   "source": [
    "## 2.1. Testy if"
   ]
  },
  {
   "cell_type": "markdown",
   "metadata": {},
   "source": [
    "Proste przykłady"
   ]
  },
  {
   "cell_type": "code",
   "execution_count": null,
   "metadata": {
    "collapsed": false
   },
   "outputs": [],
   "source": [
    "# Najprostszy przypadek instrukcji if.\n",
    "if 1:\n",
    "    print('true')"
   ]
  },
  {
   "cell_type": "code",
   "execution_count": null,
   "metadata": {
    "collapsed": false
   },
   "outputs": [],
   "source": [
    "if not \"ATG\":\n",
    "    print('true')\n",
    "else:\n",
    "    print('false')"
   ]
  },
  {
   "cell_type": "markdown",
   "metadata": {},
   "source": [
    "### 2.1.2. Rozgałęzienie kodu"
   ]
  },
  {
   "cell_type": "code",
   "execution_count": null,
   "metadata": {
    "collapsed": false
   },
   "outputs": [],
   "source": [
    "# Instrukcja if, w której obecne są wszystkie opcjonalne części.\n",
    "seq = 'ATGCTGAGT'\n",
    "if 'U' in seq and 'T' not in seq:\n",
    "    print('This is RNA.')\n",
    "elif set('ATGC') >= set(seq):\n",
    "    print('This is DNA.')\n",
    "else:\n",
    "    print('This is protein.')"
   ]
  },
  {
   "cell_type": "markdown",
   "metadata": {},
   "source": [
    "### Specjalny przypadek instrukcji if"
   ]
  },
  {
   "cell_type": "code",
   "execution_count": null,
   "metadata": {
    "collapsed": true
   },
   "outputs": [],
   "source": [
    "if 1: print(\"true\")        # Pojedyncza instrukcja w wierszu nagłówka\n",
    "    \n",
    "\n",
    "x = 5\n",
    "if x < 10: print(\"Poniżej 10.\")\n",
    "elif x <100: print(\"Poniżej 100\")\n",
    "else: print(\"Powyżej 100\")"
   ]
  },
  {
   "cell_type": "markdown",
   "metadata": {},
   "source": [
    "## 2.1.3. Co jest prawdą a co fałszem w Pythonie?"
   ]
  },
  {
   "cell_type": "code",
   "execution_count": null,
   "metadata": {
    "collapsed": true
   },
   "outputs": [],
   "source": [
    "bool(1)          # True\n",
    "bool('gene')     # True\n",
    "bool([1, 2])     # True\n",
    "bool((1,))       # True\n",
    "bool({'a': 1})   # True\n",
    "\n",
    "bool(0)          # False\n",
    "bool([])         # False\n",
    "bool(None)       # False\n",
    "bool({})         # False\n",
    "bool('')         # False"
   ]
  },
  {
   "cell_type": "markdown",
   "metadata": {},
   "source": [
    "### Wyrażenia trójargumentowe if/else"
   ]
  },
  {
   "cell_type": "code",
   "execution_count": null,
   "metadata": {
    "collapsed": true
   },
   "outputs": [],
   "source": [
    "seq = 'AUG'\n",
    "molecule = 'RNA' if 'U' in seq else 'DNA'     # Przydatny skrót\n",
    "\n",
    "if 'U' in seq:                                # Tradycyjnie\n",
    "    molecule = 'RNA'\n",
    "else:\n",
    "    molecule = 'DNA'"
   ]
  },
  {
   "cell_type": "markdown",
   "metadata": {},
   "source": [
    "## 2.2. Pętle"
   ]
  },
  {
   "cell_type": "markdown",
   "metadata": {},
   "source": [
    "## 2.2.1. Pętle while"
   ]
  },
  {
   "cell_type": "code",
   "execution_count": null,
   "metadata": {
    "collapsed": false
   },
   "outputs": [],
   "source": [
    "# Losowanie dużego lotka\n",
    "import random\n",
    "numbers = set()\n",
    "\n",
    "# Pętla while\n",
    "while len(numbers)<6:\n",
    "    numbers.add(random.randint(1,49))\n",
    "else:\n",
    "    print(numbers)"
   ]
  },
  {
   "cell_type": "code",
   "execution_count": null,
   "metadata": {
    "collapsed": false
   },
   "outputs": [],
   "source": [
    "while True:\n",
    "    name = input(\"What's your name?\")\n",
    "    if name == 'stop':\n",
    "        break                                   # break: wyjście z pętli, pominięcie reszty\n",
    "    print('Hi,', name)"
   ]
  },
  {
   "cell_type": "code",
   "execution_count": null,
   "metadata": {
    "collapsed": false
   },
   "outputs": [],
   "source": [
    "x = 10\n",
    "while x:\n",
    "    x = x - 1\n",
    "    if x % 2 != 0:\n",
    "        continue                               # continue: przejście do góry pętli do while.\n",
    "    print(x, end=\" \")"
   ]
  },
  {
   "cell_type": "markdown",
   "metadata": {},
   "source": [
    "## 2.2.2. Pętle for\n",
    "Pętla `for` jest w Pythonie uniwersalnym iteratorem po sekwencjach. Instrukcja ta działa na łańcuchach znaków, listach, krotkach, słownikach i innych wbudowanych obiektach, po których można iterować."
   ]
  },
  {
   "cell_type": "code",
   "execution_count": null,
   "metadata": {
    "collapsed": false
   },
   "outputs": [],
   "source": [
    "motifs = [\"GWG\", 'WGW', 'SSTAN']\n",
    "for seq in motifs:\n",
    "    print(seq, len(seq))"
   ]
  },
  {
   "cell_type": "code",
   "execution_count": null,
   "metadata": {
    "collapsed": true
   },
   "outputs": [],
   "source": [
    "for i in range(2,12):\n",
    "    print(i, end=\" \")"
   ]
  },
  {
   "cell_type": "code",
   "execution_count": null,
   "metadata": {
    "collapsed": false
   },
   "outputs": [],
   "source": [
    "# Pełny format pętli for\n",
    "for nt in \"ATGCTGATNAG\":\n",
    "    if nt == 'N': break         # Wyjście z pętli, pominięcie else\n",
    "    if nt == 'A': continue      # Przejście na górę pętli\n",
    "else:\n",
    "    print(nt)                   # Jeśli nie trafiliśmy na break"
   ]
  },
  {
   "cell_type": "markdown",
   "metadata": {
    "collapsed": true
   },
   "source": [
    "#### Przypisanie krotek w pętli"
   ]
  },
  {
   "cell_type": "code",
   "execution_count": null,
   "metadata": {
    "collapsed": false
   },
   "outputs": [],
   "source": [
    "t = [('chrom1', 4658), \n",
    "     ('chrom2', 4209), \n",
    "     ('chrom3', 3780)]\n",
    "for name, gene_num in t:                # Przypisanie krotek\n",
    "    print(name, gene_num)\n",
    "    \n",
    "    \n",
    "for tup in t:                          \n",
    "    name, gene_num = tup                # Odpowiednik z przypisaniem ręcznym\n",
    "    print(name, gene_num)"
   ]
  },
  {
   "cell_type": "markdown",
   "metadata": {},
   "source": [
    "#### Funkcja enumerate"
   ]
  },
  {
   "cell_type": "code",
   "execution_count": null,
   "metadata": {
    "collapsed": false
   },
   "outputs": [],
   "source": [
    "seq = 'ATGC'\n",
    "idx = 0\n",
    "for nt in seq:\n",
    "    print(idx, nt)\n",
    "    idx += 1"
   ]
  },
  {
   "cell_type": "code",
   "execution_count": null,
   "metadata": {
    "collapsed": false
   },
   "outputs": [],
   "source": [
    "seq = 'ATGC'\n",
    "enumerate(seq)\n",
    "list(enumerate(seq))\n",
    "\n",
    "for idx, nt in enumerate(seq):\n",
    "    print(idx, nt)\n",
    "\n",
    "for idx, nt in enumerate(seq, start=1):\n",
    "    print(idx, nt)"
   ]
  },
  {
   "cell_type": "code",
   "execution_count": null,
   "metadata": {
    "collapsed": true
   },
   "outputs": [],
   "source": [
    "d = {'A': 0.25, 'T': 0.25, \n",
    "     'C': 0.24, 'G': 0.26}\n",
    "for key in d:\n",
    "    print(key, d[key])                  # Użycie iteratora po kluczach słownika i indeksowania"
   ]
  },
  {
   "cell_type": "code",
   "execution_count": null,
   "metadata": {
    "collapsed": true
   },
   "outputs": [],
   "source": [
    "list(d.items())\n",
    "for key, val in d.items():              # Iteracja po kluczach i wartościach.\n",
    "    print(key, val)"
   ]
  },
  {
   "cell_type": "code",
   "execution_count": null,
   "metadata": {
    "collapsed": true
   },
   "outputs": [],
   "source": [
    "Bardziej rozbudowany przypadek przypisania krotek w pętli"
   ]
  },
  {
   "cell_type": "code",
   "execution_count": null,
   "metadata": {
    "collapsed": true
   },
   "outputs": [],
   "source": [
    "((a, b), c) = ((1, 2), 3)              # Sekwencje zagnieżdżone też działają\n",
    "\n",
    "for ((a, b), c) in [((1,2), 3), ((4, 5),6)]:\n",
    "    print(a, b, c)"
   ]
  },
  {
   "cell_type": "markdown",
   "metadata": {},
   "source": [
    "#### Przechodzenie równoległe - zip"
   ]
  },
  {
   "cell_type": "code",
   "execution_count": null,
   "metadata": {
    "collapsed": true
   },
   "outputs": [],
   "source": [
    "L1 = [1, 2, 3, 4]\n",
    "L2 = [5, 6, 7, 8]\n",
    "\n",
    "zip(L1, L2)\n",
    "list(zip(L1, L2))"
   ]
  },
  {
   "cell_type": "code",
   "execution_count": null,
   "metadata": {
    "collapsed": true
   },
   "outputs": [],
   "source": [
    "for (x, y) in zip(L1, L2):\n",
    "    print(x, y)\n",
    "    \n",
    "\n",
    "L3 = L1[:]\n",
    "list(zip(L1, L2, L3))"
   ]
  }
 ],
 "metadata": {
  "kernelspec": {
   "display_name": "Python 3",
   "language": "python",
   "name": "python3"
  },
  "language_info": {
   "codemirror_mode": {
    "name": "ipython",
    "version": 3
   },
   "file_extension": ".py",
   "mimetype": "text/x-python",
   "name": "python",
   "nbconvert_exporter": "python",
   "pygments_lexer": "ipython3",
   "version": "3.5.2"
  }
 },
 "nbformat": 4,
 "nbformat_minor": 0
}
