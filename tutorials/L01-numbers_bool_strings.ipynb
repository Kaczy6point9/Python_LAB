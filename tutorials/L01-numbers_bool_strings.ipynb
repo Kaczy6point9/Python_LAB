{
 "cells": [
  {
   "cell_type": "markdown",
   "metadata": {},
   "source": [
    "# 1. Typy obiektów i operacje"
   ]
  },
  {
   "cell_type": "markdown",
   "metadata": {},
   "source": [
    "## 1.1. Liczby\n",
    "Główne typy liczbowe w języku Python:"
   ]
  },
  {
   "cell_type": "code",
   "execution_count": null,
   "metadata": {
    "collapsed": true
   },
   "outputs": [],
   "source": [
    "# Liczby całkowite (integers)\n",
    "1234\n",
    "-24 \n",
    "0\n",
    "\n",
    "# Liczby zmiennoprzecinkowe (floating-point numbers)\n",
    "1.23 \n",
    "1.\n",
    "3.14e-10,\n",
    "4E210\n",
    "4.0e+210\n",
    "\n",
    "# Liczby rzadziej używane w bioinformatyce:\n",
    "0b101010  # Liczba dwójkowa (binarna)\n",
    "0o177     # Liczba ósemkowe\n",
    "0x9ff     # Liczba szesnastkowe\n",
    "3+4j      # Liczba zespolona\n",
    "3.0+4.0j  # jw.\n",
    "3J        # jw."
   ]
  },
  {
   "cell_type": "code",
   "execution_count": 1,
   "metadata": {
    "collapsed": false
   },
   "outputs": [
    {
     "data": {
      "text/plain": [
       "7"
      ]
     },
     "execution_count": 1,
     "metadata": {},
     "output_type": "execute_result"
    }
   ],
   "source": [
    "7"
   ]
  },
  {
   "cell_type": "code",
   "execution_count": 2,
   "metadata": {
    "collapsed": false
   },
   "outputs": [
    {
     "data": {
      "text/plain": [
       "3.14159"
      ]
     },
     "execution_count": 2,
     "metadata": {},
     "output_type": "execute_result"
    }
   ],
   "source": [
    "3.14159"
   ]
  },
  {
   "cell_type": "markdown",
   "metadata": {},
   "source": [
    "### 1.1.1. Operatory wyrażeń Pythona:\n",
    "> **Wyrażenie** (*expression*): kombinacja liczb (lub innych obiektów) i operatorów, która po wykonaniu w Pythonie oblicza wartość. "
   ]
  },
  {
   "cell_type": "code",
   "execution_count": null,
   "metadata": {
    "collapsed": true
   },
   "outputs": [],
   "source": [
    "5 - 3 \n",
    "5 + 3\n",
    "5 * 3\n",
    "5 / 3\n",
    "5 // 3\n",
    "5 % 3\n",
    "5 ** 3"
   ]
  },
  {
   "cell_type": "markdown",
   "metadata": {},
   "source": [
    "#### Operacje na liczbach"
   ]
  },
  {
   "cell_type": "code",
   "execution_count": 6,
   "metadata": {
    "collapsed": false
   },
   "outputs": [
    {
     "data": {
      "text/plain": [
       "8.0"
      ]
     },
     "execution_count": 6,
     "metadata": {},
     "output_type": "execute_result"
    }
   ],
   "source": [
    "a = 12\n",
    "b = 2\n",
    "a / 2 + b"
   ]
  },
  {
   "cell_type": "code",
   "execution_count": 7,
   "metadata": {
    "collapsed": false
   },
   "outputs": [
    {
     "data": {
      "text/plain": [
       "3.0"
      ]
     },
     "execution_count": 7,
     "metadata": {},
     "output_type": "execute_result"
    }
   ],
   "source": [
    "a / (2 + b)"
   ]
  },
  {
   "cell_type": "code",
   "execution_count": null,
   "metadata": {
    "collapsed": true
   },
   "outputs": [],
   "source": [
    "# Operacje matematyczne na mieszanych typach int i float\n",
    "# Wynik zawsze jako float.\n",
    "x = 1\n",
    "y = 2.0\n",
    "z = x + y\n",
    "print(type(x))\n",
    "print(type(y))\n",
    "print(type(z))"
   ]
  },
  {
   "cell_type": "code",
   "execution_count": 3,
   "metadata": {
    "collapsed": false
   },
   "outputs": [
    {
     "data": {
      "text/plain": [
       "0.30000000000000004"
      ]
     },
     "execution_count": 3,
     "metadata": {},
     "output_type": "execute_result"
    }
   ],
   "source": [
    "0.1 + 0.2   # WTF?!"
   ]
  },
  {
   "cell_type": "markdown",
   "metadata": {},
   "source": [
    "> **Dlaczego tak się dzieje?:** Komputer przechowuje liczby zmiennoprzecinkowe w formacie binarnym (o ograniczonej liczbie bitów), który uniemożliwia dokładną reprezentację takich liczb jak: `0.1`, `0.2`, `0.3` itd. Kiedy kod programu jest kompilowany lub interpretowany Twoja liczba `0.1` jest automatycznie zaokrąglana do liczby w tym formacie, co skutkuje drobnym błędem zaokrąglenia jeszcze przed wykonaniem samego obliczenia. Więcej informacji [Python3 Tutorial](https://docs.python.org/3/tutorial/floatingpoint.html)."
   ]
  },
  {
   "cell_type": "code",
   "execution_count": null,
   "metadata": {
    "collapsed": true
   },
   "outputs": [],
   "source": [
    "round(0.1 + 0.2, 1)              # Zaokrąglenie liczby do 1. miejsca po przecinku"
   ]
  },
  {
   "cell_type": "code",
   "execution_count": null,
   "metadata": {
    "collapsed": true
   },
   "outputs": [],
   "source": [
    "round(0.1, 1) + round(0.2, 1)"
   ]
  },
  {
   "cell_type": "markdown",
   "metadata": {},
   "source": [
    "#### Wbudowane narzędzia matematyczne"
   ]
  },
  {
   "cell_type": "code",
   "execution_count": null,
   "metadata": {
    "collapsed": true
   },
   "outputs": [],
   "source": [
    "# Wbudowane funkcje matematyczne\n",
    "int(3.1315)   # Funkcja int(): przekształca float na int (nie zaokrągla!)\n",
    "float(3)      # Funkcja float() przekształca int na float\n",
    "pow(2,3)      # To samo co: 2 ** 3\n",
    "abs(-4)       # Wartość bezwzględna\n",
    "min([1,2,3])  # Minimum\n",
    "max([1,2,3])  # Maksimum"
   ]
  },
  {
   "cell_type": "markdown",
   "metadata": {},
   "source": [
    "Moduł `math`:"
   ]
  },
  {
   "cell_type": "code",
   "execution_count": null,
   "metadata": {
    "collapsed": true
   },
   "outputs": [],
   "source": [
    "import math\n",
    "math.floor(2.567)   # Zaokrąglenie do najbliższej mniejszej liczby całkowitej\n",
    "math.ceil(2.567)    # Zaokrąglenie do najbliższej większej liczby całkowitej"
   ]
  },
  {
   "cell_type": "markdown",
   "metadata": {},
   "source": [
    "3 sposoby obliczenaia pierwiastka kwadratowego:"
   ]
  },
  {
   "cell_type": "code",
   "execution_count": null,
   "metadata": {
    "collapsed": true
   },
   "outputs": [],
   "source": [
    "math.sqrt(144)      # 1: moduł math\n",
    "144 ** 0.5          # 2: wyrażenie\n",
    "pow(144, 0.5)       # 3: Funkcja wbudowana (najwolniejsza)"
   ]
  },
  {
   "cell_type": "code",
   "execution_count": null,
   "metadata": {
    "collapsed": true
   },
   "outputs": [],
   "source": [
    "help(math)          # Pełna dokumentacja o module math.\n",
    "help(math.sqrt)     # Dokumentacja o funkcji sqrt"
   ]
  },
  {
   "cell_type": "markdown",
   "metadata": {},
   "source": [
    "Moduł `random`: wybieranie losowych liczb"
   ]
  },
  {
   "cell_type": "code",
   "execution_count": 18,
   "metadata": {
    "collapsed": false
   },
   "outputs": [
    {
     "data": {
      "text/plain": [
       "0.717885449583135"
      ]
     },
     "execution_count": 18,
     "metadata": {},
     "output_type": "execute_result"
    }
   ],
   "source": [
    "import random\n",
    "random.random()"
   ]
  },
  {
   "cell_type": "code",
   "execution_count": 17,
   "metadata": {
    "collapsed": false
   },
   "outputs": [
    {
     "data": {
      "text/plain": [
       "10"
      ]
     },
     "execution_count": 17,
     "metadata": {},
     "output_type": "execute_result"
    }
   ],
   "source": [
    "random.randint(1,10)"
   ]
  },
  {
   "cell_type": "markdown",
   "metadata": {},
   "source": [
    "#### Porównania liczb"
   ]
  },
  {
   "cell_type": "code",
   "execution_count": null,
   "metadata": {
    "collapsed": true
   },
   "outputs": [],
   "source": [
    "# Porównania zwykłe\n",
    "1 < 2       # Mniejszy od\n",
    "2.0 >= 1    # Większy lub równy od (mieszane typy więc 1 zostaje przekształcony na 1.0)\n",
    "2.0 == 2    # Równa wartość\n",
    "2.0 != 2.0  # Nie mają równej wartości"
   ]
  },
  {
   "cell_type": "code",
   "execution_count": null,
   "metadata": {
    "collapsed": false
   },
   "outputs": [],
   "source": [
    "round(0.1, 1) + round(0.2, 1) == round(0.3, 1)"
   ]
  },
  {
   "cell_type": "code",
   "execution_count": null,
   "metadata": {
    "collapsed": false
   },
   "outputs": [],
   "source": [
    "round(0.1 + 0.2, 1) == round(0.3, 1)"
   ]
  },
  {
   "cell_type": "code",
   "execution_count": null,
   "metadata": {
    "collapsed": false
   },
   "outputs": [],
   "source": [
    "# Porównania łączone\n",
    "2 < 4 < 6        # To samo co: 2 < 4 and 4 < 6\n",
    "2 < 4 > 6        # To samo co: 2 < 4 and 4 > 6\n",
    "2 < 4 or 4 > 6 "
   ]
  },
  {
   "cell_type": "markdown",
   "metadata": {},
   "source": [
    "## 1.2. Wartości Boolean (True i False)"
   ]
  },
  {
   "cell_type": "code",
   "execution_count": 1,
   "metadata": {
    "collapsed": false
   },
   "outputs": [
    {
     "data": {
      "text/plain": [
       "bool"
      ]
     },
     "execution_count": 1,
     "metadata": {},
     "output_type": "execute_result"
    }
   ],
   "source": [
    "type(True)"
   ]
  },
  {
   "cell_type": "code",
   "execution_count": null,
   "metadata": {
    "collapsed": true
   },
   "outputs": [],
   "source": [
    "# True i False są zapisanymi w innym formacie liczbami 0 i 1.\n",
    "0 == False\n",
    "1 == True\n",
    "True or False\n",
    "not False and True\n",
    "True + 4              # Hmmm.."
   ]
  },
  {
   "cell_type": "markdown",
   "metadata": {},
   "source": [
    "## 1.3. Łańcuchy znaków (Stringi)\n",
    "Łańcuchy znaków w apostrofach i cudzysłowach są tym samym."
   ]
  },
  {
   "cell_type": "code",
   "execution_count": null,
   "metadata": {
    "collapsed": true
   },
   "outputs": [],
   "source": [
    "\"ATGC\""
   ]
  },
  {
   "cell_type": "code",
   "execution_count": null,
   "metadata": {
    "collapsed": true
   },
   "outputs": [],
   "source": [
    "'ATGC'"
   ]
  },
  {
   "cell_type": "code",
   "execution_count": null,
   "metadata": {
    "collapsed": true
   },
   "outputs": [],
   "source": [
    "\"ACTGC'ATGC'!\""
   ]
  },
  {
   "cell_type": "code",
   "execution_count": null,
   "metadata": {
    "collapsed": true
   },
   "outputs": [],
   "source": [
    "'ATGC\"ATGC\"!'"
   ]
  },
  {
   "cell_type": "markdown",
   "metadata": {},
   "source": [
    "#### Sekwencje ucieczki łańcuchów znaków poprzedzone są znakiem ukośnika lewego (\\\\)\n",
    "> Sekwencje ucieczki (*escape sequence*) pozwalają osadzać w łańcuchach znaków znaki (kody bajtów), których nie da wpisać na klawiaturze. Pełny zbiór kodów ucieczki znajduje się w [dokumentacji języka Python](https://docs.python.org/3/reference/lexical_analysis.html#string-and-bytes-literals)."
   ]
  },
  {
   "cell_type": "code",
   "execution_count": 12,
   "metadata": {
    "collapsed": true
   },
   "outputs": [],
   "source": [
    "s = 'a\\nb\\tc\\t\\'d'"
   ]
  },
  {
   "cell_type": "code",
   "execution_count": 13,
   "metadata": {
    "collapsed": false
   },
   "outputs": [
    {
     "data": {
      "text/plain": [
       "\"a\\nb\\tc\\t'd\""
      ]
     },
     "execution_count": 13,
     "metadata": {},
     "output_type": "execute_result"
    }
   ],
   "source": [
    "s"
   ]
  },
  {
   "cell_type": "code",
   "execution_count": 14,
   "metadata": {
    "collapsed": false
   },
   "outputs": [
    {
     "name": "stdout",
     "output_type": "stream",
     "text": [
      "a\n",
      "b\tc\t'd\n"
     ]
    }
   ],
   "source": [
    "print(s)"
   ]
  },
  {
   "cell_type": "markdown",
   "metadata": {},
   "source": [
    "#### Potrójne cudzysłowy i apostrofy kodują łańcuchy znaków będące wielowierszowymi blokami"
   ]
  },
  {
   "cell_type": "code",
   "execution_count": 26,
   "metadata": {
    "collapsed": true
   },
   "outputs": [],
   "source": [
    "mantra = \"\"\"Zawsze patrz \n",
    "na życie\n",
    "z humorem\"\"\""
   ]
  },
  {
   "cell_type": "code",
   "execution_count": 27,
   "metadata": {
    "collapsed": false
   },
   "outputs": [
    {
     "data": {
      "text/plain": [
       "'Zawsze patrz \\nna życie\\nz humorem'"
      ]
     },
     "execution_count": 27,
     "metadata": {},
     "output_type": "execute_result"
    }
   ],
   "source": [
    "mantra"
   ]
  },
  {
   "cell_type": "code",
   "execution_count": 28,
   "metadata": {
    "collapsed": false
   },
   "outputs": [
    {
     "name": "stdout",
     "output_type": "stream",
     "text": [
      "Zawsze patrz \n",
      "na życie\n",
      "z humorem\n"
     ]
    }
   ],
   "source": [
    "print(mantra)"
   ]
  },
  {
   "cell_type": "markdown",
   "metadata": {},
   "source": [
    "Łańcuchy znaków z potrójnymi cudzysłowami/apostrofami są wykorzystywane:\n",
    "* jako komentarze kiedy pojawiają się one w określonych punktach naszego pliku\n",
    "* jako dokumentacja naszych funkcji, klas itd.\n",
    "* w celu tymczasowego wyłączania wierszy kodu w trakcie programowania"
   ]
  },
  {
   "cell_type": "code",
   "execution_count": null,
   "metadata": {
    "collapsed": true
   },
   "outputs": [],
   "source": [
    "x = 1\n",
    "\"\"\"\n",
    "import random                  # Tymczasowo blokujemny wykonanie tego kodu\n",
    "y = random.randint(0,100)\n",
    "\"\"\"\n",
    "y = 2"
   ]
  },
  {
   "cell_type": "markdown",
   "metadata": {},
   "source": [
    "### 1.3.1. Podstawowe operacje na łańcuchach znaków"
   ]
  },
  {
   "cell_type": "code",
   "execution_count": null,
   "metadata": {
    "collapsed": true
   },
   "outputs": [],
   "source": [
    "len('ATGC')          # Długość (len), czyli liczba elementów\n",
    "len('A\\tT\\nG\\nC')"
   ]
  },
  {
   "cell_type": "code",
   "execution_count": null,
   "metadata": {
    "collapsed": true
   },
   "outputs": [],
   "source": [
    "'ATGC' + 'CGTA'      # Konkatenacja - nowy łańcuch znaków"
   ]
  },
  {
   "cell_type": "code",
   "execution_count": null,
   "metadata": {
    "collapsed": true
   },
   "outputs": [],
   "source": [
    "'ATGC' * 4           # Powtórzenie - ATGC + ATGC + ATGC + ATGC"
   ]
  },
  {
   "cell_type": "code",
   "execution_count": null,
   "metadata": {
    "collapsed": true
   },
   "outputs": [],
   "source": [
    "seq = 'AAA'\n",
    "seq * 2 + 'ATGC' * 4 + 'NNN' "
   ]
  },
  {
   "cell_type": "code",
   "execution_count": null,
   "metadata": {
    "collapsed": false,
    "scrolled": true
   },
   "outputs": [],
   "source": [
    "'10' + 9             # Błąd!"
   ]
  },
  {
   "cell_type": "code",
   "execution_count": null,
   "metadata": {
    "collapsed": true
   },
   "outputs": [],
   "source": [
    "'10' + str(9)        # To samo co: '10' + '9'\n",
    "10 + int(\"9\")"
   ]
  },
  {
   "cell_type": "code",
   "execution_count": null,
   "metadata": {
    "collapsed": true
   },
   "outputs": [],
   "source": [
    "'GC' in 'ATGC'\n",
    "'GC' not in 'ATGC'\n",
    "'GC' > 'ATGC'"
   ]
  },
  {
   "cell_type": "markdown",
   "metadata": {},
   "source": [
    "### 1.3.2. Indeksowanie i wycinki\n",
    "Łańcuchy znaków definiowane są jako uporządkowane kolekcje znaków dlatego dostęp do ich komponentów można uzyskać za pomocą ich pozycji (indeksu)."
   ]
  },
  {
   "cell_type": "code",
   "execution_count": null,
   "metadata": {
    "collapsed": true
   },
   "outputs": [],
   "source": [
    "seq = \"MKSYHSGGTVW\"     # Protein sequence.\n",
    "\"\"\"\n",
    "Pozycje w sekwencji:\n",
    "0     1    2     3     4    5    6    7    8    9    10\n",
    "M     K    S     Y     H    S    G    G    T    V     W\n",
    "-11  -10  -9    -8    -7   -6   -5   -4   -3   -2    -1\n",
    "\"\"\"\n",
    "seq[0]\n",
    "seq[2:4]\n",
    "seq[2:2]\n",
    "seq[-1]\n",
    "seq[-5:-2]\n",
    "seq[0:-1]\n",
    "seq[:]\n",
    "seq[11]"
   ]
  },
  {
   "cell_type": "code",
   "execution_count": null,
   "metadata": {
    "collapsed": true
   },
   "outputs": [],
   "source": [
    "# Rozszerzone wycinki - trzeci limit\n",
    "seq[0:10:2]\n",
    "seq[:10:2]\n",
    "seq[10:1:-1]\n",
    "seq[::-1]         # ?"
   ]
  },
  {
   "cell_type": "markdown",
   "metadata": {},
   "source": [
    "### 1.3.3. Metody łańcuchów znaków\n",
    "> Pełna lista dostępnych metod łańcuchów znaków znajduje się w [dokumentacji języka Python](https://docs.python.org/3/library/stdtypes.html#string-methods)."
   ]
  },
  {
   "cell_type": "code",
   "execution_count": null,
   "metadata": {
    "collapsed": true
   },
   "outputs": [],
   "source": [
    "# Najczęściej używane metody.\n",
    "DNAseq = 'ATGCTGaTGaT'\n",
    "RNAseq = DNAseq.replace('T', 'U')\n",
    "print(RNAseq)\n",
    "\n",
    "RNAseq.count('U')\n",
    "RNAseq.lower()\n",
    "print(RNAseq)\n",
    "RNAseq.upper()\n",
    "RNAseq.startswith('ATGC')    # To samo co: RNAseq[0:4] == 'ATGC'\n",
    "RNAseq.startswith('ATGT')\n",
    "RNAseq.endswith('AT')\n",
    "RNAseq.isalpha()\n",
    "RNAseq.isdigit()\n",
    "\n",
    "seq = ' MKSTG\\n'\n",
    "seq.strip()\n",
    "seq.rstrip()\n",
    "seq.lstrip()"
   ]
  },
  {
   "cell_type": "code",
   "execution_count": null,
   "metadata": {
    "collapsed": true
   },
   "outputs": [],
   "source": [
    "seq = 'ATG' * 3\n",
    "dir(seq)\n",
    "help(seq.find)           # To samo co: help(str.find)\n",
    "RNAseq.find('ATG')\n",
    "RNAseq.find('ATGC')"
   ]
  },
  {
   "cell_type": "markdown",
   "metadata": {},
   "source": [
    "### 1.3.4. Formatowanie łańcuchów znaków\n",
    "Mechanizmy formatowania łańcuchów znaków są dostępne w 2 odmianach:\n",
    "1. *Wyrażenia formatujące* - oryginalna technika formatowania łańcuchów znaków dostępna w Pythonie od zawsze.\n",
    "2. *Metoda format* - nowsza technika, dodana w Pythonie 2.6 i 3.0."
   ]
  },
  {
   "cell_type": "code",
   "execution_count": 5,
   "metadata": {
    "collapsed": false
   },
   "outputs": [
    {
     "name": "stdout",
     "output_type": "stream",
     "text": [
      "ATGCCCC ma dlugosc 7 pz i sklada sie w 57.14285714285714 procentach z nukleotydu C.\n"
     ]
    }
   ],
   "source": [
    "seq = 'ATGCCCC'\n",
    "seq_len = len(seq) \n",
    "cfreq = seq.count('C') / seq_len * 100\n",
    "\n",
    "# Konkatenacja (paskudna praktyka formatowania)\n",
    "info = seq + \" ma dlugosc \" + str(seq_len) + \" pz i sklada sie \" \n",
    "info += \"w \" + str(cfreq) + \" procentach z nukleotydu C.\"\n",
    "print(info)"
   ]
  },
  {
   "cell_type": "code",
   "execution_count": null,
   "metadata": {
    "collapsed": true
   },
   "outputs": [],
   "source": [
    "# Wyrażenia formatujące\n",
    "\"%s ma dlugosc %i pz i sklada się w %f procentach z nukleotydu C.\" % (seq, seq_len, cfreq)\n",
    "\"%s ma dlugosc %i pz i sklada się w %f%% z nukleotydu C.\" % (seq, seq_len, cfreq)\n",
    "'%s ma dlugosc %i pz i sklada sie w %.1f%% z nukleotydu C.' % (seq, seq_len, cfreq)"
   ]
  },
  {
   "cell_type": "code",
   "execution_count": 39,
   "metadata": {
    "collapsed": false
   },
   "outputs": [
    {
     "data": {
      "text/plain": [
       "'ATGCCCC ma dlugosc 7 pz i sklada sie w 57.1% z nukleotydu C.'"
      ]
     },
     "execution_count": 39,
     "metadata": {},
     "output_type": "execute_result"
    }
   ],
   "source": [
    "# Metoda format (potężne możliwości - tutaj tylko najważniejsze z nich)\n",
    "'{0} ma dlugosc {1} pz i sklada sie w {2}% z nukleotydu C.'.format(seq, seq_len, cfreq)\n",
    "'{0} ma dlugosc {1} pz i sklada sie w {2:.1f}% z nukleotydu C.'.format(seq, seq_len, cfreq)\n",
    "'{} ma dlugosc {} pz i sklada sie w {:.1f}% z nukleotydu C.'.format(seq, seq_len, cfreq)\n",
    "template = '{} ma dlugosc {} pz i sklada sie w {:.1f}% z nukleotydu C.'\n",
    "template.format(seq, seq_len, cfreq)"
   ]
  },
  {
   "cell_type": "markdown",
   "metadata": {},
   "source": [
    "### 1.4. Podsumowanie i otarcie się o funkcję"
   ]
  },
  {
   "cell_type": "code",
   "execution_count": 46,
   "metadata": {
    "collapsed": false
   },
   "outputs": [
    {
     "name": "stdout",
     "output_type": "stream",
     "text": [
      "Dlugosc sekwencji: 19 pz.\n",
      "A: 36.84%\n",
      "T: 21.05%\n",
      "C: 5.26%\n",
      "G: 36.84%\n",
      "\n"
     ]
    }
   ],
   "source": [
    "def DNAinfo(dna_seq):\n",
    "    \"\"\"Return information about sequence length \n",
    "    and nucleotide content.\n",
    "    \n",
    "    Args:\n",
    "       dna_seq (str) - DNA sequence\n",
    "    Returns:\n",
    "       str - information\n",
    "    \"\"\"\n",
    "    \n",
    "    # Calculations.\n",
    "    seqlen = len(dna_seq)\n",
    "    a = dna_seq.count('A') / seqlen * 100\n",
    "    t = dna_seq.count('T') / seqlen * 100\n",
    "    c = dna_seq.count('C') / seqlen * 100\n",
    "    g = dna_seq.count('G') / seqlen * 100\n",
    "    \n",
    "    # Formatting.\n",
    "    template = 'Dlugosc sekwencji: {0} pz.\\n'\n",
    "    template += 'A: {1:.2f}%\\n'\n",
    "    template += 'T: {2:.2f}%\\n'    \n",
    "    template += 'C: {3:.2f}%\\n'\n",
    "    template += 'G: {4:.2f}%\\n'\n",
    "    return template.format(seqlen, a, t, c, g)\n",
    "\n",
    "# Executing our function.\n",
    "print(DNAcontent('ATGCTGAGAGTAGAGAGAT'))"
   ]
  },
  {
   "cell_type": "code",
   "execution_count": 47,
   "metadata": {
    "collapsed": false
   },
   "outputs": [
    {
     "name": "stdout",
     "output_type": "stream",
     "text": [
      "Help on function DNAinfo in module __main__:\n",
      "\n",
      "DNAinfo(dna_seq)\n",
      "    Return information about sequence length \n",
      "    and nucleotide content.\n",
      "    \n",
      "    Args:\n",
      "       dna_seq (str) - DNA sequence\n",
      "    Returns:\n",
      "       str - information\n",
      "\n"
     ]
    }
   ],
   "source": [
    "help(DNAinfo)"
   ]
  }
 ],
 "metadata": {
  "kernelspec": {
   "display_name": "Python 3",
   "language": "python",
   "name": "python3"
  },
  "language_info": {
   "codemirror_mode": {
    "name": "ipython",
    "version": 3
   },
   "file_extension": ".py",
   "mimetype": "text/x-python",
   "name": "python",
   "nbconvert_exporter": "python",
   "pygments_lexer": "ipython3",
   "version": "3.5.2"
  }
 },
 "nbformat": 4,
 "nbformat_minor": 0
}
