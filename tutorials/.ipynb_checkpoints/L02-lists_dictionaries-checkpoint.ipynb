{
 "cells": [
  {
   "cell_type": "markdown",
   "metadata": {},
   "source": [
    "# 1. Typy obiektów i operacje"
   ]
  },
  {
   "cell_type": "markdown",
   "metadata": {},
   "source": [
    "## Listy\n",
    "[Lista](https://docs.python.org/3.5/tutorial/datastructures.html#) w Pythonie to uporządkowany pod względem pozycji zbiór obiektów dowolnego typu. \n",
    "\n",
    "Lista to obiekt **zmienny** (*mutable*) - można je modyfikować w miejscu poprzez: przypisanie do pozycji lub użycie metod list oraz instrukcji usuwających elementy."
   ]
  },
  {
   "cell_type": "code",
   "execution_count": null,
   "metadata": {
    "collapsed": true
   },
   "outputs": [],
   "source": [
    "l = []                                  # Pusta lista\n",
    "l = [0, 1, 2, 3]                        # 4 elementy - indeksy od 0 do 3\n",
    "l = ['ATG', ['AAT', 'TGA']]             # Zagnieżdżone listy\n",
    "l = [1, \"A\", True, 3.14]                # Listy mogą zawierać różne typy obiektów (heterogeniczność)"
   ]
  },
  {
   "cell_type": "markdown",
   "metadata": {},
   "source": [
    "### Indeksowanie i wycinki\n",
    "Dostęp do elementów list można uzyskać za pomocą indeksów."
   ]
  },
  {
   "cell_type": "code",
   "execution_count": null,
   "metadata": {
    "collapsed": true
   },
   "outputs": [],
   "source": [
    "l[2]                                    # Element listy o indeksie 2\n",
    "l[2] = 5                                # Przypisanie do indeksu\n",
    "l[0:3] = [9,8,7]"
   ]
  },
  {
   "cell_type": "code",
   "execution_count": null,
   "metadata": {
    "collapsed": true
   },
   "outputs": [],
   "source": [
    "l = ['ATG', ['AAT', 'TGA']]\n",
    "# Jak wydobyć element 'AAT'?"
   ]
  },
  {
   "cell_type": "markdown",
   "metadata": {},
   "source": [
    "### Konwersja string <-> lista"
   ]
  },
  {
   "cell_type": "code",
   "execution_count": null,
   "metadata": {
    "collapsed": true
   },
   "outputs": [],
   "source": [
    "l = list('ATGC')               # Tworzy listę ['A', 'T', 'G', 'C']\n",
    "l = 'A T G C'.split(' ')       # j.w.\n",
    "l = 'A-T-G-C'.split('-')       # j.w.\n",
    "\n",
    "\"\".join(['A', 'T', 'G', 'C'])"
   ]
  },
  {
   "cell_type": "markdown",
   "metadata": {},
   "source": [
    "### Operacje na listach"
   ]
  },
  {
   "cell_type": "code",
   "execution_count": null,
   "metadata": {
    "collapsed": true
   },
   "outputs": [],
   "source": [
    "l1 = [0, 1, 2, 3]\n",
    "l2 = [4, 5, 6, 7]\n",
    "l1 + l2                                 # Konkatenacja\n",
    "l1 * 3                                  # Powtórzenie\n",
    "3 in l1                                 # Przynależność (True/False)"
   ]
  },
  {
   "cell_type": "markdown",
   "metadata": {},
   "source": [
    "### Metody list - modyfikacja list w miejscu\n",
    "Pełną listę metod można uzsykać wpisując w sesji interaktywnej funkcje `help(list)` lub `dir(list)`. Informacje te są również dostępne w dokumentacji biblioteki stanrdowej Pythona."
   ]
  },
  {
   "cell_type": "code",
   "execution_count": null,
   "metadata": {
    "collapsed": true
   },
   "outputs": [],
   "source": [
    "l.append(4)                            # Dodanie elementu 4 na koniec listy l"
   ]
  },
  {
   "cell_type": "code",
   "execution_count": null,
   "metadata": {
    "collapsed": true
   },
   "outputs": [],
   "source": [
    "l.extend([5, 6, 7])                    # Dodanie elementów 5, 6, 7 do listy l"
   ]
  },
  {
   "cell_type": "code",
   "execution_count": null,
   "metadata": {
    "collapsed": true
   },
   "outputs": [],
   "source": [
    "l.insert(2, \"AAA\")                     # Wprowadzenie elementu AAA na pozycję 2"
   ]
  },
  {
   "cell_type": "code",
   "execution_count": null,
   "metadata": {
    "collapsed": true
   },
   "outputs": [],
   "source": [
    "l.remove(\"AAA\")                        # Usuwa z listy pierwsze wystąpienie elementu AAA"
   ]
  },
  {
   "cell_type": "code",
   "execution_count": null,
   "metadata": {
    "collapsed": true
   },
   "outputs": [],
   "source": [
    "l.pop()                                # Usuwa i zwraca ostatni element listy\n",
    "l.pop(5)                               # Usuwa i zwraca element o indeksie 5."
   ]
  },
  {
   "cell_type": "code",
   "execution_count": null,
   "metadata": {
    "collapsed": true
   },
   "outputs": [],
   "source": [
    "del l[2]                               # Usuwa z listy element o indeksie 2.\n",
    "del l[2:4]                             \n",
    "del l                                  # Usuwa całą listę."
   ]
  },
  {
   "cell_type": "code",
   "execution_count": null,
   "metadata": {
    "collapsed": true
   },
   "outputs": [],
   "source": [
    "l.count(2)                             # Zwraca liczbę wystąpień elementu 2"
   ]
  },
  {
   "cell_type": "code",
   "execution_count": null,
   "metadata": {
    "collapsed": true
   },
   "outputs": [],
   "source": [
    "l.index(1)                             # Zwraca pozycję elementu 1 lub wyjątek (błąd) jeżeli nie istnieje."
   ]
  },
  {
   "cell_type": "code",
   "execution_count": null,
   "metadata": {
    "collapsed": true
   },
   "outputs": [],
   "source": [
    "l.sort()                               # Sortuje (wzrastająco) listę w miejscu\n",
    "l.sort(reverse=True)                   # Sortuje (malejąco) listę w miejscu"
   ]
  },
  {
   "cell_type": "code",
   "execution_count": null,
   "metadata": {
    "collapsed": true
   },
   "outputs": [],
   "source": [
    "l.reverse()                            # Odwraca kolejność elementów listy"
   ]
  },
  {
   "cell_type": "markdown",
   "metadata": {},
   "source": [
    "### Funkcje list"
   ]
  },
  {
   "cell_type": "code",
   "execution_count": null,
   "metadata": {
    "collapsed": true
   },
   "outputs": [],
   "source": [
    "l = list(range(0,10))                  # [1, 2, 3, 4, 5, 6, 7, 8, 9]\n",
    "l = list(range(10))                    # j.w.\n",
    "l = list(range(0,10,2))                # [0, 2, 4, 6, 8]\n",
    "print(l)\n",
    "\n",
    "len(l)\n",
    "max(l)\n",
    "min(l)\n",
    "sum(l)\n",
    "sorted(l)\n",
    "reversed(l)                            # Funkcja odwracająca sekwencję (zwraca nową listę)"
   ]
  },
  {
   "cell_type": "markdown",
   "metadata": {},
   "source": [
    "#### Iteracje po listach"
   ]
  },
  {
   "cell_type": "code",
   "execution_count": null,
   "metadata": {
    "collapsed": false
   },
   "outputs": [],
   "source": [
    "# Iteracaja\n",
    "for codon in ['ATG', 'CTG', 'TAG']:\n",
    "    print(codon)"
   ]
  },
  {
   "cell_type": "code",
   "execution_count": null,
   "metadata": {
    "collapsed": false
   },
   "outputs": [],
   "source": [
    "for i in range(10):\n",
    "    print(i**2, end=\" \")"
   ]
  },
  {
   "cell_type": "markdown",
   "metadata": {},
   "source": [
    "#### Składanie list (*List Comprehensions*)"
   ]
  },
  {
   "cell_type": "code",
   "execution_count": null,
   "metadata": {
    "collapsed": false
   },
   "outputs": [],
   "source": [
    "squares = [i**2 for i in range(10)]   # Lista składana\n",
    "squares"
   ]
  },
  {
   "cell_type": "code",
   "execution_count": null,
   "metadata": {
    "collapsed": false
   },
   "outputs": [],
   "source": [
    "# Odpowiednik listy składanej\n",
    "squares = []\n",
    "for i in range(10):\n",
    "    squares.append(i**2)\n",
    "squares"
   ]
  },
  {
   "cell_type": "markdown",
   "metadata": {},
   "source": [
    "> Listy składane działają mniej więcej 2 razy szybciej od ręcznie zapisanych instrukcji pętli `for`, ponieważ ich iteracje wykonywane są wewnątrz interpretera z szybkością języka C, a nie z szybkością kodu Pythona."
   ]
  },
  {
   "cell_type": "markdown",
   "metadata": {},
   "source": [
    "Rozszerzona lista składana"
   ]
  },
  {
   "cell_type": "code",
   "execution_count": null,
   "metadata": {
    "collapsed": false
   },
   "outputs": [],
   "source": [
    "[i for i in range(10) if i % 2 == 0]\n",
    "\n",
    "# Utwórz taką listę przy użyciu klasycznej pętli for."
   ]
  },
  {
   "cell_type": "markdown",
   "metadata": {},
   "source": [
    "## Słowniki\n",
    "[Słownik](https://docs.python.org/3.5/tutorial/datastructures.html#dictionaries) w Pythonie to kolekcja nieuporządkowanych obiektów. W słownikach elementy przechowywane są zgodnie z kluczem, a nie indeksem. Słowniki, podobnie jak listy, są zmienne, zatem można je modyfikować, rozszerzać, kurczyć w miejscu bez tworzenia nowych słowników."
   ]
  },
  {
   "cell_type": "markdown",
   "metadata": {},
   "source": [
    "### Podstawowe operacje na słownikach"
   ]
  },
  {
   "cell_type": "code",
   "execution_count": 3,
   "metadata": {
    "collapsed": false
   },
   "outputs": [
    {
     "data": {
      "text/plain": [
       "{'ATG': 'M', 'TCT': 'S', 'TGG': 'W'}"
      ]
     },
     "execution_count": 3,
     "metadata": {},
     "output_type": "execute_result"
    }
   ],
   "source": [
    "codons = {'ATG': 'M', 'TCT': 'S', 'TGG': 'W'}        # Utworzenie słownika                                  \n",
    "codons"
   ]
  },
  {
   "cell_type": "markdown",
   "metadata": {},
   "source": [
    "> Kolejność elementów słownika od lewej do prawej prawie zawsze jest inna od ich początkowej kolejności. Jest to celowe - w celu zaimplementowania szybkiego wyszukiwania kluczy (mieszania = *hashing*) muszą one zostać w pamięci ułożone w sposób losowy. Wartość można pobrać jedynie za pomocą klucza, a nie pozycji."
   ]
  },
  {
   "cell_type": "code",
   "execution_count": null,
   "metadata": {
    "collapsed": false
   },
   "outputs": [],
   "source": [
    "codons['TCT']                                      # Pobranie wartości po kluczu\n",
    "codons.get('TCT')                                  # j.w."
   ]
  },
  {
   "cell_type": "code",
   "execution_count": null,
   "metadata": {
    "collapsed": true
   },
   "outputs": [],
   "source": [
    "codons['AAA']                                      # Brakujący klucz (błąd!)\n",
    "codons.get('AAA')\n",
    "codons.get('AAA', '-')"
   ]
  },
  {
   "cell_type": "code",
   "execution_count": 4,
   "metadata": {
    "collapsed": false
   },
   "outputs": [
    {
     "data": {
      "text/plain": [
       "[('ATG', 'M'), ('TCT', 'S'), ('TGG', 'W')]"
      ]
     },
     "execution_count": 4,
     "metadata": {},
     "output_type": "execute_result"
    }
   ],
   "source": [
    "len(codons)                                        # Liczba wpisów w słowniku\n",
    "'ATG' in codons                                    # Sprawdzenie istnienia klucza\n",
    "list(codons.keys())                                # Utworzenie nowej listy kluczy\n",
    "list(codons.values())                              # Utworzenie nowej lisy wartości\n",
    "list(codons.items())                               # Lista krotek par (klucz, wartość)"
   ]
  },
  {
   "cell_type": "markdown",
   "metadata": {},
   "source": [
    "### Modyfikacje słowników w miejscu"
   ]
  },
  {
   "cell_type": "code",
   "execution_count": 3,
   "metadata": {
    "collapsed": false
   },
   "outputs": [
    {
     "data": {
      "text/plain": [
       "{'R': ['AGA', 'AGG'], 'W': 'TGG'}"
      ]
     },
     "execution_count": 3,
     "metadata": {},
     "output_type": "execute_result"
    }
   ],
   "source": [
    "aa2codons = {'W':'TGG'}\n",
    "aa2codons['M'] = 'ATG'                             # Dodanie nowego wpisu\n",
    "aa2codons['R'] = ['AGA', 'AGG']                    # j.w.\n",
    "del d['W']                                         # Usunięcie wpisu\n",
    "aa2codons.pop('M')                                 # Usunięcie i zwrócenie wartości klucza"
   ]
  },
  {
   "cell_type": "markdown",
   "metadata": {},
   "source": [
    "### Cztery sposoby tworzenia słowników"
   ]
  },
  {
   "cell_type": "code",
   "execution_count": null,
   "metadata": {
    "collapsed": true
   },
   "outputs": [],
   "source": [
    "d = {'name': 'hemoglobin', 'lenght': 2500}         # 1. Tradycyjne tworzenie słownika\n",
    "\n",
    "d = {}                                             # 2. Dynamiczne przypisanie do kluczy\n",
    "d['name'] = 'hemoglobin'\n",
    "d['lenght'] = 2500\n",
    "\n",
    "d = dict(name='hemoglobin', 'length=2500')         # 3. Argument ze słowem kluczowym\n",
    "\n",
    "dict([('name', 'hemoglobin'), ('length', 2500)])   # 4. Krotki klucz/wartość"
   ]
  },
  {
   "cell_type": "markdown",
   "metadata": {},
   "source": [
    "### Składanie słowników (ang. *Dictionary Comprehension*)"
   ]
  },
  {
   "cell_type": "code",
   "execution_count": null,
   "metadata": {
    "collapsed": true
   },
   "outputs": [],
   "source": [
    "d = {x: x**2 for x in [1, 2, 3, 4]}                # Lub range(1,5)\n",
    "d"
   ]
  },
  {
   "cell_type": "code",
   "execution_count": null,
   "metadata": {
    "collapsed": true
   },
   "outputs": [],
   "source": [
    "d = {c: c * 4 for c in 'ATGC'}                     # Iteracje po dowolnym iteratorze\n",
    "d"
   ]
  },
  {
   "cell_type": "code",
   "execution_count": 5,
   "metadata": {
    "collapsed": false
   },
   "outputs": [
    {
     "data": {
      "text/plain": [
       "[('a', 1), ('b', 2), ('c', 3)]"
      ]
     },
     "execution_count": 5,
     "metadata": {},
     "output_type": "execute_result"
    }
   ],
   "source": [
    "list(zip(['a', 'b', 'c'], [1, 2, 3]))              # Połączenie kluczy i wartości"
   ]
  },
  {
   "cell_type": "code",
   "execution_count": 8,
   "metadata": {
    "collapsed": false
   },
   "outputs": [
    {
     "data": {
      "text/plain": [
       "{'a': 1, 'b': 2, 'c': 3}"
      ]
     },
     "execution_count": 8,
     "metadata": {},
     "output_type": "execute_result"
    }
   ],
   "source": [
    "d = dict(zip(['a', 'b', 'c'], [1, 2, 3]))\n",
    "d"
   ]
  }
 ],
 "metadata": {
  "kernelspec": {
   "display_name": "Python 3",
   "language": "python",
   "name": "python3"
  },
  "language_info": {
   "codemirror_mode": {
    "name": "ipython",
    "version": 3
   },
   "file_extension": ".py",
   "mimetype": "text/x-python",
   "name": "python",
   "nbconvert_exporter": "python",
   "pygments_lexer": "ipython3",
   "version": "3.5.2"
  }
 },
 "nbformat": 4,
 "nbformat_minor": 0
}
